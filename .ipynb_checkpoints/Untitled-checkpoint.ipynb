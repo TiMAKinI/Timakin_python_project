{
 "cells": [
  {
   "cell_type": "code",
   "execution_count": null,
   "id": "1295efce-4bd1-4658-97d7-f7d34bea5748",
   "metadata": {},
   "outputs": [],
   "source": [
    "from mysql_connector import search_by_keyword\n",
    "\n",
    "print(\"Тест подключения к MySQL:\")\n",
    "result = search_by_keyword(\"ACE\")\n",
    "print(result)"
   ]
  },
  {
   "cell_type": "code",
   "execution_count": null,
   "id": "b885afc7-8ee9-42fc-a88d-9669cd7a8bea",
   "metadata": {},
   "outputs": [],
   "source": [
    "from log_writer import log_search\n",
    "\n",
    "log_search(\"test_query\", \"keyword\", {\"keyword\": \"test\"}, 3)\n",
    "print(\"MongoDB: лог записан.\")"
   ]
  },
  {
   "cell_type": "code",
   "execution_count": null,
   "id": "c494810e-088e-4072-974b-29cadb979454",
   "metadata": {},
   "outputs": [],
   "source": [
    "def main():\n",
    "    # запуск меню, логики и т.д.\n",
    "    pass\n",
    "\n",
    "if __name__ == \"__main__\":\n",
    "    main()"
   ]
  },
  {
   "cell_type": "code",
   "execution_count": null,
   "id": "48eab06d-4c0e-4c72-a910-816066464f4a",
   "metadata": {},
   "outputs": [],
   "source": []
  }
 ],
 "metadata": {
  "kernelspec": {
   "display_name": "Python 3 (ipykernel)",
   "language": "python",
   "name": "python3"
  },
  "language_info": {
   "codemirror_mode": {
    "name": "ipython",
    "version": 3
   },
   "file_extension": ".py",
   "mimetype": "text/x-python",
   "name": "python",
   "nbconvert_exporter": "python",
   "pygments_lexer": "ipython3",
   "version": "3.12.8"
  }
 },
 "nbformat": 4,
 "nbformat_minor": 5
}
