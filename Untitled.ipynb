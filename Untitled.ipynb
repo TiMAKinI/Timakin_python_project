{
 "cells": [
  {
   "cell_type": "code",
   "execution_count": 1,
   "id": "1295efce-4bd1-4658-97d7-f7d34bea5748",
   "metadata": {},
   "outputs": [
    {
     "name": "stdout",
     "output_type": "stream",
     "text": [
      "Тест подключения к MySQL:\n",
      "(('ACE GOLDFINGER', 1991, 'A Astounding Epistle of a Database Administrator And a Explorer who must Find a Car in Ancient China'), ('BEAR GRACELAND', 2013, 'A Astounding Saga of a Dog And a Boy who must Kill a Teacher in The First Manned Space Station'), ('DIRTY ACE', 2009, 'A Action-Packed Character Study of a Forensic Psychologist And a Girl who must Build a Dentist in The Outback'), ('DISTURBING SCARFACE', 2019, 'A Lacklusture Display of a Crocodile And a Butler who must Overcome a Monkey in A U-Boat'), ('DUCK RACER', 2007, 'A Lacklusture Yarn of a Teacher And a Squirrel who must Overcome a Dog in A Shark Tank'), ('GRACELAND DYNAMITE', 1990, 'A Taut Display of a Cat And a Girl who must Overcome a Database Administrator in New Orleans'), ('MILLION ACE', 2014, 'A Brilliant Documentary of a Womanizer And a Squirrel who must Find a Technical Writer in The Sahara Desert'), ('NECKLACE OUTBREAK', 2023, 'A Astounding Epistle of a Database Administrator And a Mad Scientist who must Pursue a Cat in California'), ('OPPOSITE NECKLACE', 2010, 'A Fateful Epistle of a Crocodile And a Moose who must Kill a Explorer in Nigeria'), ('PAPI NECKLACE', 2011, 'A Fanciful Display of a Car And a Monkey who must Escape a Squirrel in Ancient Japan'))\n"
     ]
    }
   ],
   "source": [
    "from mysql_connector import search_by_keyword\n",
    "\n",
    "print(\"Тест подключения к MySQL:\")\n",
    "result = search_by_keyword(\"ACE\")\n",
    "print(result)"
   ]
  },
  {
   "cell_type": "code",
   "execution_count": 2,
   "id": "b885afc7-8ee9-42fc-a88d-9669cd7a8bea",
   "metadata": {},
   "outputs": [
    {
     "name": "stdout",
     "output_type": "stream",
     "text": [
      "MongoDB: лог записан.\n"
     ]
    }
   ],
   "source": [
    "from log_writer import log_search\n",
    "\n",
    "log_search(\"test_query\", \"keyword\", {\"keyword\": \"test\"}, 3)\n",
    "print(\"MongoDB: лог записан.\")"
   ]
  },
  {
   "cell_type": "code",
   "execution_count": 3,
   "id": "c494810e-088e-4072-974b-29cadb979454",
   "metadata": {},
   "outputs": [],
   "source": [
    "def main():\n",
    "    \n",
    "    pass\n",
    "\n",
    "if __name__ == \"__main__\":\n",
    "    main()"
   ]
  },
  {
   "cell_type": "code",
   "execution_count": 4,
   "id": "48eab06d-4c0e-4c72-a910-816066464f4a",
   "metadata": {},
   "outputs": [
    {
     "name": "stdout",
     "output_type": "stream",
     "text": [
      "Collecting prettytable\n",
      "  Downloading prettytable-3.16.0-py3-none-any.whl.metadata (33 kB)\n",
      "Requirement already satisfied: wcwidth in c:\\users\\ilyam\\appdata\\local\\programs\\python\\python312\\lib\\site-packages (from prettytable) (0.2.13)\n",
      "Downloading prettytable-3.16.0-py3-none-any.whl (33 kB)\n",
      "Installing collected packages: prettytable\n",
      "Successfully installed prettytable-3.16.0\n",
      "Note: you may need to restart the kernel to use updated packages.\n"
     ]
    },
    {
     "name": "stderr",
     "output_type": "stream",
     "text": [
      "\n",
      "[notice] A new release of pip is available: 24.3.1 -> 25.1.1\n",
      "[notice] To update, run: python.exe -m pip install --upgrade pip\n"
     ]
    }
   ],
   "source": [
    "pip install prettytable"
   ]
  },
  {
   "cell_type": "code",
   "execution_count": null,
   "id": "05044631-367b-461b-bb9c-32fd9d0ebcf7",
   "metadata": {},
   "outputs": [],
   "source": []
  }
 ],
 "metadata": {
  "kernelspec": {
   "display_name": "Python 3 (ipykernel)",
   "language": "python",
   "name": "python3"
  },
  "language_info": {
   "codemirror_mode": {
    "name": "ipython",
    "version": 3
   },
   "file_extension": ".py",
   "mimetype": "text/x-python",
   "name": "python",
   "nbconvert_exporter": "python",
   "pygments_lexer": "ipython3",
   "version": "3.12.8"
  }
 },
 "nbformat": 4,
 "nbformat_minor": 5
}
